{
 "cells": [
  {
   "cell_type": "code",
   "execution_count": 46,
   "id": "7e6196d9-4918-4d73-bf44-ab3f9e7fabf5",
   "metadata": {},
   "outputs": [],
   "source": [
    "from scipy.special import comb\n",
    "import math"
   ]
  },
  {
   "cell_type": "code",
   "execution_count": 47,
   "id": "b5f5115e-76c1-4780-abea-ecd994c6a9c0",
   "metadata": {},
   "outputs": [
    {
     "name": "stdout",
     "output_type": "stream",
     "text": [
      "Número de combinações possíveis: 53130\n",
      "Probabilidade de ganhar o prêmio: 0.000018821757952\n"
     ]
    }
   ],
   "source": [
    "num = 25\n",
    "dispo = 20\n",
    "num_combinações = math.comb(num, dispo)\n",
    "probabilidade = 1 / num_combinações\n",
    "print(\"Número de combinações possíveis:\", num_combinações)\n",
    "print(\"Probabilidade de ganhar o prêmio:\", \"{:.15f}\".format(probabilidade))"
   ]
  },
  {
   "cell_type": "code",
   "execution_count": 48,
   "id": "9365185f-6b49-4e0d-a903-277e065bc751",
   "metadata": {},
   "outputs": [
    {
     "name": "stdout",
     "output_type": "stream",
     "text": [
      "Combinações = 53130 e Probabilidade = 0.000018821757952\n"
     ]
    }
   ],
   "source": [
    "combinacoes = comb(25, 20)\n",
    "probabilidade = 1 / combinacoes\n",
    "print('Combinações = %d e Probabilidade = %0.15f' % (combinacoes, probabilidade))"
   ]
  },
  {
   "cell_type": "code",
   "execution_count": 49,
   "id": "d551fa73-cf9b-4b46-b44b-60b9d631da96",
   "metadata": {},
   "outputs": [
    {
     "data": {
      "text/plain": [
       "0.375"
      ]
     },
     "execution_count": 49,
     "metadata": {},
     "output_type": "execute_result"
    }
   ],
   "source": [
    "from scipy.stats import binom\n",
    "\n",
    "p = 1 / 2  \n",
    "n = 4      \n",
    "k = 2      \n",
    "\n",
    "binom.pmf(k, n, p)"
   ]
  },
  {
   "cell_type": "code",
   "execution_count": 50,
   "id": "191873ed-b68f-4894-8d0c-a6536f0a2eaa",
   "metadata": {},
   "outputs": [
    {
     "name": "stdout",
     "output_type": "stream",
     "text": [
      "Probabilidade de obter pelo menos 3 vezes o número cinco em 10 lançamentos: 0.22477320212874075\n"
     ]
    }
   ],
   "source": [
    "n = 10\n",
    "k = 3\n",
    "p = 1/6\n",
    "\n",
    "prob_less_than_3 = binom.cdf(k - 1, n, p)\n",
    "\n",
    "probability = 1 - prob_less_than_3\n",
    "\n",
    "print(\"Probabilidade de obter pelo menos 3 vezes o número cinco em 10 lançamentos:\", probability)\n"
   ]
  },
  {
   "cell_type": "code",
   "execution_count": 51,
   "id": "f1e073a7-f88d-47d6-9a54-66d68c106bf4",
   "metadata": {},
   "outputs": [
    {
     "name": "stdout",
     "output_type": "stream",
     "text": [
      "22.48%\n"
     ]
    }
   ],
   "source": [
    "p = 1 / 6  \n",
    "n = 10     \n",
    "\n",
    "print(\"{0:.2%}\".format(binom.sf(2, n, p)))"
   ]
  },
  {
   "cell_type": "code",
   "execution_count": 52,
   "id": "eca535d1-734b-487a-9842-4ea00392de01",
   "metadata": {},
   "outputs": [],
   "source": [
    "from scipy.stats import binom\n",
    "\n",
    "p = 0.22\n",
    "n = 3\n",
    "k = 2\n",
    "N = 50\n",
    "\n",
    "probabilidade = binom.pmf(k, n, p)\n",
    "\n",
    "media = probabilidade * N"
   ]
  },
  {
   "cell_type": "code",
   "execution_count": 53,
   "id": "904b0e89-776a-4b5a-8a95-e4d0379ee609",
   "metadata": {},
   "outputs": [
    {
     "data": {
      "text/plain": [
       "5.662799999999996"
      ]
     },
     "execution_count": 53,
     "metadata": {},
     "output_type": "execute_result"
    }
   ],
   "source": [
    "media"
   ]
  },
  {
   "cell_type": "code",
   "execution_count": 54,
   "id": "93d73901-e3a6-4edd-bf42-df02102ae5c6",
   "metadata": {},
   "outputs": [],
   "source": [
    "import numpy as np"
   ]
  },
  {
   "cell_type": "code",
   "execution_count": 55,
   "id": "67cc9e0b-f50f-49a2-92d5-3186df6f2e54",
   "metadata": {},
   "outputs": [],
   "source": [
    "mean = 20\n",
    "k = 25"
   ]
  },
  {
   "cell_type": "code",
   "execution_count": 56,
   "id": "61400be6-8a7b-4b6e-974a-dd453b0327b7",
   "metadata": {},
   "outputs": [
    {
     "name": "stdout",
     "output_type": "stream",
     "text": [
      "0.04458765\n"
     ]
    }
   ],
   "source": [
    "probability = ((np.e ** (-mean)) * (mean ** k )) / (np.math.factorial(k))\n",
    "print('%0.8f' % probability)"
   ]
  },
  {
   "cell_type": "code",
   "execution_count": 57,
   "id": "1d5ddd48-8389-4b88-b021-bb47efb9d944",
   "metadata": {},
   "outputs": [
    {
     "name": "stdout",
     "output_type": "stream",
     "text": [
      "4.46%\n"
     ]
    }
   ],
   "source": [
    "from scipy.stats import poisson\n",
    "\n",
    "media = 20\n",
    "k = 25\n",
    "\n",
    "probabilidade = poisson.pmf(k, media)\n",
    "print(\"{0:.2%}\".format(probabilidade))"
   ]
  },
  {
   "cell_type": "code",
   "execution_count": 58,
   "id": "0918a03b-a8cb-4cf1-aa83-002db974888e",
   "metadata": {},
   "outputs": [
    {
     "data": {
      "text/plain": [
       "0.9986501019683699"
      ]
     },
     "execution_count": 58,
     "metadata": {},
     "output_type": "execute_result"
    }
   ],
   "source": [
    "from scipy.stats import norm\n",
    "\n",
    "mean = 70\n",
    "standard_deviation = 5\n",
    "note = (85 - mean) / standard_deviation\n",
    "note\n",
    "\n",
    "norm.cdf(note)"
   ]
  },
  {
   "cell_type": "code",
   "execution_count": 59,
   "id": "d93f47b9-a51c-4f0d-92e0-49386725316d",
   "metadata": {},
   "outputs": [
    {
     "name": "stdout",
     "output_type": "stream",
     "text": [
      "68.27%\n",
      "2.27%\n"
     ]
    }
   ],
   "source": [
    "mean = 300.00\n",
    "standard_deviation = 50.00\n",
    "\n",
    "probability = norm.cdf(350, mean, standard_deviation) - norm.cdf(250, mean, standard_deviation)\n",
    "print(\"{0:.2%}\".format(probability))\n",
    "\n",
    "\n",
    "probability_2 = norm.cdf(500, mean, standard_deviation) - norm.cdf(400, mean, standard_deviation)\n",
    "print(\"{0:.2%}\".format(probability_2))"
   ]
  },
  {
   "cell_type": "code",
   "execution_count": 67,
   "id": "10296951-9fea-4680-beb4-694444dc2f2c",
   "metadata": {},
   "outputs": [
    {
     "name": "stdout",
     "output_type": "stream",
     "text": [
      "83.15%\n",
      "0.38%\n",
      "25.25%\n"
     ]
    }
   ],
   "source": [
    "mean = 720\n",
    "standard_deviation = 30\n",
    "\n",
    "infe = (650 - mean) / standard_deviation\n",
    "super = (750 - mean) / standard_deviation\n",
    "\n",
    "probability = norm.cdf(super) - norm.cdf(infe)\n",
    "print(\"{0:.2%}\".format(probability))\n",
    "\n",
    "z = (800 - mean)  / standard_deviation\n",
    "\n",
    "probability_2 = 1 - norm.cdf(z)\n",
    "print(\"{0:.2%}\".format(probability_2))\n",
    "\n",
    "z = (700 - mean ) / standard_deviation\n",
    "\n",
    "probability_3 = norm.cdf(z)\n",
    "print(\"{0:.2%}\".format(probability_3))"
   ]
  },
  {
   "cell_type": "code",
   "execution_count": 68,
   "id": "56751d6f-51c3-4806-8406-2b26631ea531",
   "metadata": {},
   "outputs": [
    {
     "name": "stdout",
     "output_type": "stream",
     "text": [
      "0.9750\n",
      "0.0158\n",
      "0.2177\n",
      "0.2776\n"
     ]
    }
   ],
   "source": [
    "# Item A\n",
    "probabilidade = norm.cdf(1.96)\n",
    "print(\"{0:0.4f}\".format(probabilidade))\n",
    "\n",
    "# Item B\n",
    "probabilidade = 1 - norm.cdf(2.15)\n",
    "# ou -> probabilidade = norm.sf(2.15)\n",
    "print(\"{0:0.4f}\".format(probabilidade))\n",
    "\n",
    "# Item C\n",
    "probabilidade = norm.cdf(-0.78)\n",
    "print(\"{0:0.4f}\".format(probabilidade))\n",
    "\n",
    "# Item D\n",
    "probabilidade = 1 - norm.cdf(0.59)\n",
    "# ou -> probabilidade = norm.sf(0.59)\n",
    "print(\"{0:0.4f}\".format(probabilidade))"
   ]
  },
  {
   "cell_type": "code",
   "execution_count": null,
   "id": "0542bfd5-b192-470e-943c-808b6718d69b",
   "metadata": {},
   "outputs": [],
   "source": []
  }
 ],
 "metadata": {
  "kernelspec": {
   "display_name": "Python 3 (ipykernel)",
   "language": "python",
   "name": "python3"
  },
  "language_info": {
   "codemirror_mode": {
    "name": "ipython",
    "version": 3
   },
   "file_extension": ".py",
   "mimetype": "text/x-python",
   "name": "python",
   "nbconvert_exporter": "python",
   "pygments_lexer": "ipython3",
   "version": "3.10.6"
  }
 },
 "nbformat": 4,
 "nbformat_minor": 5
}
