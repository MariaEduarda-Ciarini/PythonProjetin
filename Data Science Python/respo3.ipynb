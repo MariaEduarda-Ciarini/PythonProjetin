{
 "cells": [
  {
   "cell_type": "code",
   "execution_count": 3,
   "id": "d5256db8-bf74-4596-a13c-fe16c245dead",
   "metadata": {},
   "outputs": [
    {
     "name": "stdout",
     "output_type": "stream",
     "text": [
      "z = -4.1079\n",
      "Rejeitar H0\n"
     ]
    }
   ],
   "source": [
    "from scipy.stats import norm\n",
    "import numpy as np\n",
    "\n",
    "media_amostra = 485\n",
    "desvio_padrao = 20\n",
    "media = 500\n",
    "significancia = 0.05\n",
    "confianca = 1 - significancia\n",
    "n = 30\n",
    "\n",
    "probabilidade = (0.5 + (confianca / 2))\n",
    "z_alpha_2 = norm.ppf(probabilidade)\n",
    "\n",
    "z = (media_amostra - media) / (desvio_padrao / np.sqrt(n))\n",
    "\n",
    "print('z =', round(z, 4))\n",
    "if(z <= -z_alpha_2 or z >= z_alpha_2):\n",
    "    print('Rejeitar H0')\n",
    "else:\n",
    "    print('Aceitar H0')"
   ]
  },
  {
   "cell_type": "code",
   "execution_count": 4,
   "id": "741e6a30-7150-4f01-a598-42d620f9e4d9",
   "metadata": {},
   "outputs": [
    {
     "name": "stdout",
     "output_type": "stream",
     "text": [
      "t(alpha) = 1.7291\n",
      "t = 3.9752\n",
      "Rejeitar H0\n"
     ]
    }
   ],
   "source": [
    "from scipy.stats import t as t_student\n",
    "\n",
    "media_amostra = 230\n",
    "desvio_padrao_amostra = 90\n",
    "media = 150\n",
    "significancia = 0.05\n",
    "confianca = 1 - significancia\n",
    "n = 20\n",
    "graus_de_liberdade = n - 1\n",
    "\n",
    "t_alpha = t_student.ppf(confianca, graus_de_liberdade)\n",
    "\n",
    "t = (media_amostra - media) / (desvio_padrao_amostra / np.sqrt(n))\n",
    "\n",
    "print('t(alpha) =', round(t_alpha, 4))\n",
    "print('t =', round(t, 4))\n",
    "if(t >= t_alpha):\n",
    "    print('Rejeitar H0')\n",
    "else:\n",
    "    print('Aceitar H0')"
   ]
  },
  {
   "cell_type": "code",
   "execution_count": 5,
   "id": "2d42c911-c4e1-402a-b913-41e4d1298878",
   "metadata": {},
   "outputs": [
    {
     "name": "stdout",
     "output_type": "stream",
     "text": [
      "z(alpha) = 1.645\n",
      "z = -1.479\n",
      "Aceitar H0\n"
     ]
    }
   ],
   "source": [
    "media_amostra = 330\n",
    "desvio_padrao_amostra = 80\n",
    "media = 350\n",
    "significancia = 0.05\n",
    "confianca = 1 - significancia\n",
    "n = 35\n",
    "\n",
    "z_alpha = norm.ppf(confianca)\n",
    "\n",
    "z = (media_amostra - media) / (desvio_padrao_amostra / np.sqrt(n))\n",
    "\n",
    "print('z(alpha) =', round(z_alpha, 3))\n",
    "print('z =', round(z, 3))\n",
    "if(z <= -z_alpha):\n",
    "    print('Rejeitar H0')\n",
    "else:\n",
    "    print('Aceitar H0')"
   ]
  }
 ],
 "metadata": {
  "kernelspec": {
   "display_name": "Python 3 (ipykernel)",
   "language": "python",
   "name": "python3"
  },
  "language_info": {
   "codemirror_mode": {
    "name": "ipython",
    "version": 3
   },
   "file_extension": ".py",
   "mimetype": "text/x-python",
   "name": "python",
   "nbconvert_exporter": "python",
   "pygments_lexer": "ipython3",
   "version": "3.10.6"
  }
 },
 "nbformat": 4,
 "nbformat_minor": 5
}
