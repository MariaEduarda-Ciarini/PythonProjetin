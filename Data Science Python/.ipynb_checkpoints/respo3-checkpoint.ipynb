{
 "cells": [
  {
   "cell_type": "code",
   "execution_count": 2,
   "id": "d5256db8-bf74-4596-a13c-fe16c245dead",
   "metadata": {},
   "outputs": [
    {
     "name": "stdout",
     "output_type": "stream",
     "text": [
      "z = -4.1079\n",
      "Rejeitar H0\n"
     ]
    }
   ],
   "source": [
    "from scipy.stats import norm\n",
    "import numpy as np\n",
    "\n",
    "media_amostra = 485\n",
    "desvio_padrao = 20\n",
    "media = 500\n",
    "significancia = 0.05\n",
    "confianca = 1 - significancia\n",
    "n = 30\n",
    "\n",
    "probabilidade = (0.5 + (confianca / 2))\n",
    "z_alpha_2 = norm.ppf(probabilidade)\n",
    "\n",
    "z = (media_amostra - media) / (desvio_padrao / np.sqrt(n))\n",
    "\n",
    "print('z =', round(z, 4))\n",
    "if(z <= -z_alpha_2 or z >= z_alpha_2):\n",
    "    print('Rejeitar H0')\n",
    "else:\n",
    "    print('Aceitar H0')"
   ]
  },
  {
   "cell_type": "code",
   "execution_count": 3,
   "id": "741e6a30-7150-4f01-a598-42d620f9e4d9",
   "metadata": {},
   "outputs": [
    {
     "name": "stdout",
     "output_type": "stream",
     "text": [
      "t(alpha) = 1.7291\n",
      "t = 3.9752\n",
      "Rejeitar H0\n"
     ]
    }
   ],
   "source": [
    "from scipy.stats import t as t_student\n",
    "\n",
    "media_amostra = 230\n",
    "desvio_padrao_amostra = 90\n",
    "media = 150\n",
    "significancia = 0.05\n",
    "confianca = 1 - significancia\n",
    "n = 20\n",
    "graus_de_liberdade = n - 1\n",
    "\n",
    "t_alpha = t_student.ppf(confianca, graus_de_liberdade)\n",
    "\n",
    "t = (media_amostra - media) / (desvio_padrao_amostra / np.sqrt(n))\n",
    "\n",
    "print('t(alpha) =', round(t_alpha, 4))\n",
    "print('t =', round(t, 4))\n",
    "if(t >= t_alpha):\n",
    "    print('Rejeitar H0')\n",
    "else:\n",
    "    print('Aceitar H0')"
   ]
  },
  {
   "cell_type": "code",
   "execution_count": 4,
   "id": "2d42c911-c4e1-402a-b913-41e4d1298878",
   "metadata": {},
   "outputs": [
    {
     "name": "stdout",
     "output_type": "stream",
     "text": [
      "z(alpha) = 1.645\n",
      "z = -1.479\n",
      "Aceitar H0\n"
     ]
    }
   ],
   "source": [
    "media_amostra = 330\n",
    "desvio_padrao_amostra = 80\n",
    "media = 350\n",
    "significancia = 0.05\n",
    "confianca = 1 - significancia\n",
    "n = 35\n",
    "\n",
    "z_alpha = norm.ppf(confianca)\n",
    "\n",
    "z = (media_amostra - media) / (desvio_padrao_amostra / np.sqrt(n))\n",
    "\n",
    "print('z(alpha) =', round(z_alpha, 3))\n",
    "print('z =', round(z, 3))\n",
    "if(z <= -z_alpha):\n",
    "    print('Rejeitar H0')\n",
    "else:\n",
    "    print('Aceitar H0')"
   ]
  },
  {
   "cell_type": "code",
   "execution_count": 5,
   "id": "1fab51c9-fa49-4833-9a5a-16dd369610e6",
   "metadata": {},
   "outputs": [
    {
     "name": "stdout",
     "output_type": "stream",
     "text": [
      "t = 2.6646\n",
      "Rejeitar H0\n"
     ]
    }
   ],
   "source": [
    "import pandas as pd\n",
    "\n",
    "shampoo_Novo = pd.Series([3.4, 4.9, 2.8, 5.5, 3.7, 2.5, 4.3, 4.6, 3.7, 3.4])\n",
    "shampoo_Antigo = pd.Series([0.3, 1.2, 1.2, 1.7, 1.1, 0.6, 1.2, 1.5, 0.5, 0.7])\n",
    "\n",
    "media_A = shampoo_Novo.mean()\n",
    "desvio_padrao_A = shampoo_Novo.std()\n",
    "\n",
    "media_B = shampoo_Antigo.mean()\n",
    "desvio_padrao_B = shampoo_Antigo.std()\n",
    "\n",
    "significancia = 0.05\n",
    "confianca = 1 - significancia\n",
    "n_A = len(shampoo_Novo)\n",
    "n_B = len(shampoo_Antigo)\n",
    "D_0 = 2\n",
    "\n",
    "graus_de_liberdade = n_A + n_B - 2\n",
    "\n",
    "t_alpha = t_student.ppf(confianca, graus_de_liberdade)\n",
    "\n",
    "numerador = (media_A - media_B) - D_0\n",
    "denominador = np.sqrt((desvio_padrao_A ** 2 / n_A) + (desvio_padrao_B ** 2 / n_B))\n",
    "t = numerador / denominador\n",
    "\n",
    "print('t =', round(t, 4))\n",
    "\n",
    "if(t >= t_alpha):\n",
    "    print('Rejeitar H0')\n",
    "else:\n",
    "    print('Aceitar H0')"
   ]
  },
  {
   "cell_type": "code",
   "execution_count": 6,
   "id": "b2e83fa6-f574-4513-a704-185ac40c40ce",
   "metadata": {},
   "outputs": [
    {
     "name": "stdout",
     "output_type": "stream",
     "text": [
      "p-valor = 0.1893\n"
     ]
    }
   ],
   "source": [
    "from scipy.stats import chi\n",
    "\n",
    "chi_2 = 7.45\n",
    "raiz_chi_2 = np.sqrt(chi_2) \n",
    "p_valor = chi.sf(raiz_chi_2, df = 5)\n",
    "print('p-valor =', p_valor.round(4))"
   ]
  },
  {
   "cell_type": "code",
   "execution_count": 7,
   "id": "af0edbf1-69b2-40b3-8734-ca6008623ebe",
   "metadata": {},
   "outputs": [
    {
     "name": "stdout",
     "output_type": "stream",
     "text": [
      "T = 14.0\n",
      "Rejeitar H0\n"
     ]
    }
   ],
   "source": [
    "from scipy.stats import wilcoxon\n",
    "\n",
    "sem_Alura = pd.Series([ 7,  8, 6, 6, 10, 4, 2, 5,  9, 2, 4, 9, 1, 10])\n",
    "com_Alura = pd.Series([10, 10, 9, 9,  9, 7, 5, 8, 10, 6, 3, 7, 4,  8])\n",
    "\n",
    "significancia = 0.10\n",
    "\n",
    "T, p_valor = wilcoxon(sem_Alura, com_Alura)\n",
    "print('T =', T)\n",
    "\n",
    "if(p_valor <= significancia):\n",
    "    print('Rejeitar H0')\n",
    "else:\n",
    "    print('Aceitar H0')"
   ]
  },
  {
   "cell_type": "code",
   "execution_count": 8,
   "id": "81ad9a0f-989a-431a-a710-3360a5710d5f",
   "metadata": {},
   "outputs": [
    {
     "name": "stdout",
     "output_type": "stream",
     "text": [
      "u = 50.0\n",
      "Aceitar H0\n"
     ]
    }
   ],
   "source": [
    "from scipy.stats import mannwhitneyu\n",
    "\n",
    "sem_Exercicios = pd.Series([7, 6, 7, 8, 6, 8, 6, 9, 5])\n",
    "com_Exercicios = pd.Series([8, 7, 6, 6, 8, 6, 10, 6, 7, 8])\n",
    "\n",
    "significancia = 0.10\n",
    "\n",
    "u, p_valor = mannwhitneyu(com_Exercicios, sem_Exercicios, alternative='greater')\n",
    "\n",
    "print('u =', u)\n",
    "\n",
    "if(p_valor <= significancia):\n",
    "    print('Rejeitar H0')\n",
    "else:\n",
    "    print('Aceitar H0')"
   ]
  }
 ],
 "metadata": {
  "kernelspec": {
   "display_name": "Python 3 (ipykernel)",
   "language": "python",
   "name": "python3"
  },
  "language_info": {
   "codemirror_mode": {
    "name": "ipython",
    "version": 3
   },
   "file_extension": ".py",
   "mimetype": "text/x-python",
   "name": "python",
   "nbconvert_exporter": "python",
   "pygments_lexer": "ipython3",
   "version": "3.10.6"
  }
 },
 "nbformat": 4,
 "nbformat_minor": 5
}
